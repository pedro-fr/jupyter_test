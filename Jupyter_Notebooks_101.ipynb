{
 "cells": [
  {
   "cell_type": "markdown",
   "metadata": {},
   "source": [
    "<font color=\"#002856\"><h1 align=\"left\">Programación con Python y R</h1></font>\n",
    "<font color=\"#002856\"><h2 align=\"left\">Introducción a Jupyter Notebook</h2></font> \n",
    "\n",
    "#### Profesor: Juan Francisco Vallalta Rueda\n",
    "---"
   ]
  },
  {
   "cell_type": "markdown",
   "metadata": {},
   "source": [
    "# Introducción a Jupyter Notebook"
   ]
  },
  {
   "cell_type": "markdown",
   "metadata": {},
   "source": [
    "Este tutorial está escrito en Jupyter Notebook. De esta manera, puedes probar los diferentes comandos que presentaremos aquí."
   ]
  },
  {
   "cell_type": "markdown",
   "metadata": {},
   "source": [
    "## Jupyter Notebook"
   ]
  },
  {
   "cell_type": "markdown",
   "metadata": {},
   "source": [
    "Empecemos por lo básico: ¿qué es un Jupyter Notebook? Un notebook (cuaderno) es un documento hecho de celdas. Puede escribir en algunas de ellos (celdas de markdown) o puede realizar cálculos en Python (celdas de código) y ejecutarlos así:"
   ]
  },
  {
   "cell_type": "code",
   "execution_count": 6,
   "metadata": {},
   "outputs": [
    {
     "data": {
      "text/plain": [
       "2"
      ]
     },
     "execution_count": 6,
     "metadata": {},
     "output_type": "execute_result"
    }
   ],
   "source": [
    "1+1"
   ]
  },
  {
   "cell_type": "markdown",
   "metadata": {},
   "source": [
    "Genial, ¿verdad?. Esta combinación de texto y código hace que Jupyter Notebook sea ideal para la experimentación: podemos ver la justificación de cada experimento, el código y los resultados en un documento completo.\n",
    "\n",
    "Instituciones de renombre en la academia y la industria utilizan Jupyter Notebook, incluidas Google, Microsoft, IBM, Bloomberg, Berkeley y NASA, entre otras. Incluso los economistas ganadores del Nobel utilizan los cuadernos de Jupyter para sus experimentos y algunos sugieren que los cuadernos de Jupyter serán el [nuevo formato para los trabajos de investigación](https://www.theatlantic.com/science/archive/2018/04/the-scientific-paper-is-obsolete/556676/)."
   ]
  },
  {
   "cell_type": "markdown",
   "metadata": {},
   "source": [
    "## Escribiendo"
   ]
  },
  {
   "cell_type": "markdown",
   "metadata": {},
   "source": [
    "Un tipo de celda en la que puede escribir texto se llama _Célda de markdown_. [_Markdown_](https://en.wikipedia.org/wiki/Markdown) es un lenguaje de marcado muy popular. Para especificar que una celda es Markdown, debes hacer clic en el menú desplegable de la barra de herramientas y seleccionar Markdown.\n",
    "\n",
    "Haga clic en el botón '+' a la izquierda y seleccione Markdown en la barra de herramientas. Ahora puede escribir su primera celda de Markdown. Escribe \"Mi primera celda de markdown\" y presiona Ejecutar.\n",
    "\n",
    "Deberías ver algo como esto:"
   ]
  },
  {
   "cell_type": "markdown",
   "metadata": {},
   "source": [
    "'Mi primera celda de markdown'"
   ]
  },
  {
   "cell_type": "markdown",
   "metadata": {},
   "source": [
    "Ahora intenta hacer tu primera celda _Code_: sigue los mismos pasos que antes, pero no cambies el tipo de celda (cuando agregas una celda, su tipo predeterminado es _Code_). Escribe algo como 3/2. Deberías ver 1.5 como salida."
   ]
  },
  {
   "cell_type": "code",
   "execution_count": 7,
   "metadata": {},
   "outputs": [
    {
     "data": {
      "text/plain": [
       "1.5"
      ]
     },
     "execution_count": 7,
     "metadata": {},
     "output_type": "execute_result"
    }
   ],
   "source": [
    "3/2"
   ]
  },
  {
   "cell_type": "markdown",
   "metadata": {},
   "source": [
    "Si cometiste un error en tu celda *Markdown* y ya lo has ejecutado, notarás que no puede editarlo simplemente haciendo clic en él. Esto se debe a que está en **Modo de comando**. Los Jupyter Notebook tienen dos modos distintos:\n",
    "\n",
    "- Modo de edición: le permite editar el contenido de una celda.\n",
    "\n",
    "- Modo de comando: le permite editar el cuaderno como un todo y usar atajos de teclado, pero no editar el contenido de una celda.\n",
    "\n",
    "Puede alternar entre estos dos presionando <kbd>ESC</kbd> y <kbd>Enter</kbd> o haciendo clic fuera de una celda o dentro de ella (debe hacer doble clic si es una celda de Markdown). Siempre puedes saber en qué modo estás: la celda actual tendrá un borde verde en **Modo de edición** y un borde azul en **Modo de comando**. ¡Inténtalo!"
   ]
  },
  {
   "cell_type": "markdown",
   "metadata": {},
   "source": [
    "## Otras consideraciones importantes"
   ]
  },
  {
   "cell_type": "markdown",
   "metadata": {},
   "source": [
    "Tu cuaderno se guarda automáticamente cada 120 segundos. Si deseas guardarlo manualmente, simplemente presiona el botón Guardar en la esquina superior izquierda o presione <kbd>s</kbd> en **Modo de comando **.\n",
    "\n",
    "Para saber si tu *kernel* (el motor Python que ejecuta sus instrucciones detrás de escena) está computando o no, puede marcar el punto en la esquina superior derecha. Si el punto está lleno, significa que el kernel está funcionando. Si no, está inactivo. Puede colocar el mouse sobre él y se mostrará el estado del kernel.\n",
    "\n",
    "Hay un par de atajos de teclado que debes conocer y que usamos **todo** el tiempo (siempre en **Modo de comando**). Estos son:\n",
    "\n",
    " - Shift + Enter :: Ejecutar el código o el markdown en una celda\n",
    " \n",
    " - Flecha arriba + Flecha abajo :: Alternar entre celdas\n",
    " \n",
    " - b :: Crear nueva celda\n",
    " \n",
    " - 0 + 0 :: Restablecer kernel\n",
    "\n",
    "Puede encontrar más atajos escribiendo <kbd>h</kbd> (para obtener ayuda)."
   ]
  },
  {
   "cell_type": "markdown",
   "metadata": {},
   "source": [
    "Y ésto es todo lo que necesitas saber para utilizar Jupyter Notebooks. Dicho esto, tenemos más consejos y trucos a continuación, así que no saltes a la siguiente tarea todavía."
   ]
  },
  {
   "cell_type": "markdown",
   "metadata": {},
   "source": [
    "# Introducción a markdown"
   ]
  },
  {
   "cell_type": "markdown",
   "metadata": {},
   "source": [
    "Como hemos visto Jupyter Notebook tiene dos tipos de celdas: texto y código. Las celdas de texto se formatean utilizando un lenguaje de marcado simple llamado Markdown.\n",
    "\n",
    "Para ver la fuente de Markdown, haga doble clic en una celda de texto."
   ]
  },
  {
   "cell_type": "markdown",
   "metadata": {},
   "source": [
    "## Referencia\n",
    "\n",
    "### Cursiva, negrita, tachado, cita en bloque y enlaces\n",
    "\n",
    "Los cinco conceptos más importantes para formatear tu código de manera adecuada al usar Markdown son:\n",
    "    \n",
    "- *Cursiva* :: Rodee tu texto con \\ _ o \\ *.\n",
    "\n",
    "- **Negrita** :: Rodea tu texto con \\ __ o \\ **.\n",
    "\n",
    "- `inline` :: Rodea tu texto con \\`.\n",
    "\n",
    "- >Cita en bloque :: Coloque \\> antes de su texto.\n",
    "\n",
    "- [Vínculos] (https://healthdataminer.com/) :: Rodee el texto que desea vincular con [\\] y coloque el vínculo junto al texto, rodeado con ().\n",
    "\n",
    "Markdown | Vista \n",
    "--- | ---\n",
    "`**texto negrita**` | **texto negrita**\n",
    "`*texto cursiva*` or `_texto cursiva_` | *texto cursiva*\n",
    "`~~tachado~~` | ~~tachado~~\n",
    "`` `inline` `` | `inline`\n",
    "`[Un enlace](https://healthdataminer.com)` | [Un enlace](https://healthdataminer.com)\n",
    "`![Una imagen](https://healthdataminer.com/wp-content/uploads/2021/05/LogoAzul.png)` | ![Una imagen](https://healthdataminer.com/wp-content/uploads/2021/05/LogoAzul.png)\n",
    "\n",
    "\n",
    "---\n",
    "### Encabezados\n",
    "Los encabezados se representan como títulos. Al incluir un hashtag antes del texto en una celda de markdown hace que el texto sea un encabezado. El número de hashtags que incluya determinará la prioridad del encabezado (# es el nivel uno, ## es el nivel dos, ### es el nivel tres y #### es el nivel cuatro).\n",
    "\n",
    "```markdown\n",
    "# Sección 1\n",
    "# Sección 2\n",
    "## Subsección dentro de Sección 2\n",
    "### Subsección dentro de subseccion dentro de Sección 2\n",
    "# Sección 3\n",
    "```\n",
    "\n",
    "# Sección 1\n",
    "# Sección 2\n",
    "## Subsección dentro de Sección 2\n",
    "### Subsección dentro de subseccion dentro de Sección 2\n",
    "# Sección 3\n",
    "\n",
    "---\n",
    "\n",
    "```markdown\n",
    ">Un nivel de identación\n",
    "```\n",
    "\n",
    ">Un nivel de identación\n",
    "\n",
    "\n",
    "```markdown\n",
    ">>Dos niveles de identación\n",
    "```\n",
    "\n",
    ">>Dos niveles de identación\n",
    "\n",
    "---\n",
    "\n",
    "### Bloques de código\n",
    "\n",
    "````\n",
    "```python\n",
    "print(\"a\")\n",
    "```\n",
    "````\n",
    "\n",
    "```python\n",
    "print(\"a\")\n",
    "```\n",
    "\n",
    "---\n",
    "### Listas\n",
    "Hay tres tipos de listas:\n",
    "\n",
    "Listas ordenadas:\n",
    "```markdown\n",
    "1. Uno\n",
    "2. Dos\n",
    "3. Tres\n",
    "```\n",
    "1. Uno\n",
    "2. Dos\n",
    "3. Tres\n",
    "\n",
    "---\n",
    "\n",
    "Listas no ordenadas:\n",
    "```markdown\n",
    "* Uno\n",
    "* Dos\n",
    "* Tres\n",
    "```\n",
    "* Uno\n",
    "* Dos\n",
    "* Tres\n",
    "\n",
    "---\n",
    "\n",
    "Lista de tareas\n",
    "```markdown\n",
    "- [x] Aprender Jupyter Notebooks\n",
    "    - [x] Escribiendo\n",
    "    - [x] Modos\n",
    "    - [x] Otras consideraciones\n",
    "- [ ] ¡Canmbiar el mundo!\n",
    "```\n",
    "\n",
    "- [x] Aprender Jupyter Notebooks\n",
    "    - [x] Escribiendo\n",
    "    - [x] Modos\n",
    "    - [x] Otras consideraciones\n",
    "- [ ] ¡Canmbiar el mundo!\n",
    "\n",
    "---\n",
    "\n",
    "### Ecuaciones\n",
    "\n",
    "Jupyter soporta ecuaciones  [LATEX](https://en.wikibooks.org/wiki/LaTeX/Mathematics).\n",
    "\n",
    "```markdown\n",
    "$y=x^2$\n",
    "\n",
    "$e^{i\\pi} + 1 = 0$\n",
    "\n",
    "$e^x=\\sum_{i=0}^\\infty \\frac{1}{i!}x^i$\n",
    "\n",
    "$\\frac{n!}{k!(n-k)!} = {n \\choose k}$\n",
    "\n",
    "$A_{m,n} =\n",
    " \\begin{pmatrix}\n",
    "  a_{1,1} & a_{1,2} & \\cdots & a_{1,n} \\\\\n",
    "  a_{2,1} & a_{2,2} & \\cdots & a_{2,n} \\\\\n",
    "  \\vdots  & \\vdots  & \\ddots & \\vdots  \\\\\n",
    "  a_{m,1} & a_{m,2} & \\cdots & a_{m,n}\n",
    " \\end{pmatrix}$\n",
    "```\n",
    "\n",
    "$y=x^2$\n",
    "\n",
    "$e^{i\\pi} + 1 = 0$\n",
    "\n",
    "$e^x=\\sum_{i=0}^\\infty \\frac{1}{i!}x^i$\n",
    "\n",
    "$\\frac{n!}{k!(n-k)!} = {n \\choose k}$\n",
    "\n",
    "$A_{m,n} =\n",
    " \\begin{pmatrix}\n",
    "  a_{1,1} & a_{1,2} & \\cdots & a_{1,n} \\\\\n",
    "  a_{2,1} & a_{2,2} & \\cdots & a_{2,n} \\\\\n",
    "  \\vdots  & \\vdots  & \\ddots & \\vdots  \\\\\n",
    "  a_{m,1} & a_{m,2} & \\cdots & a_{m,n}\n",
    " \\end{pmatrix}$\n",
    "\n",
    "\n",
    " ---\n",
    "\n",
    "### Tablas\n",
    "\n",
    "```markdown\n",
    "Nombre primera columna | Nombre segunda columna\n",
    "-----------------------|------------------\n",
    "Fila 1, Col 1          |Fila 1, Col 2 \n",
    "Fila 2, Col 1          |Fila 2, Col 2 \n",
    "\n",
    "```\n",
    "\n",
    "Nombre primera columna | Nombre segunda columna\n",
    "-----------------------|------------------\n",
    "Fila 1, Col 1          | Fila 1, Col 2 \n",
    "Fila 2, Col 1          |Fila 2, Col 2 \n",
    "\n",
    "---\n",
    "\n",
    "### Líneas horizontales\n",
    "\n",
    "```markdown\n",
    "---\n",
    "```\n",
    "\n",
    "---"
   ]
  },
  {
   "cell_type": "markdown",
   "metadata": {},
   "source": [
    "## Capacidades de código\n",
    "Las celdas de código son diferentes a las celdas de Markdown en el hecho de que tienen una celda de salida. Esto significa que podemos mantener los resultados de nuestro código dentro del cuaderno y compartirlos. Digamos que queremos mostrar una gráfica que explique el resultado de un experimento. Podemos simplemente ejecutar las celdas necesarias y guardar el cuaderno. ¡La salida estará allí cuando la abramos de nuevo! Pruébelo ejecutando la siguientes celda."
   ]
  },
  {
   "cell_type": "code",
   "execution_count": 3,
   "metadata": {},
   "outputs": [
    {
     "name": "stdout",
     "output_type": "stream",
     "text": [
      "1 2 4 8\n"
     ]
    },
    {
     "data": {
      "image/png": "[encoded data removed]",
      "text/plain": [
       "<Figure size 432x288 with 1 Axes>"
      ]
     },
     "metadata": {
      "needs_background": "light"
     },
     "output_type": "display_data"
    }
   ],
   "source": [
    "import matplotlib.pyplot as plt\n",
    "a = 1\n",
    "b = a + 1\n",
    "c = b + a + 1\n",
    "d = c + b + a + 1\n",
    "print(a,b,c,d)\n",
    "\n",
    "\n",
    "plt.plot([a,b,c,d])\n",
    "plt.show()"
   ]
  },
  {
   "cell_type": "code",
   "execution_count": 9,
   "metadata": {},
   "outputs": [],
   "source": [
    "def suma_y_eleva_al_cuadrado(a, b):\n",
    "    resultado = a + b\n",
    "    resultado = resultado*resultado\n",
    "    return resultado"
   ]
  },
  {
   "cell_type": "code",
   "execution_count": 11,
   "metadata": {},
   "outputs": [
    {
     "name": "stdout",
     "output_type": "stream",
     "text": [
      "0\n",
      "1\n",
      "4\n",
      "9\n",
      "16\n",
      "25\n",
      "36\n",
      "49\n",
      "64\n",
      "81\n",
      "100\n",
      "121\n",
      "144\n",
      "169\n",
      "196\n",
      "225\n",
      "256\n",
      "289\n",
      "324\n",
      "361\n",
      "400\n",
      "441\n",
      "484\n",
      "529\n",
      "576\n",
      "625\n",
      "676\n",
      "729\n",
      "784\n",
      "841\n",
      "900\n",
      "961\n",
      "1024\n",
      "1089\n",
      "1156\n",
      "1225\n",
      "1296\n",
      "1369\n",
      "1444\n",
      "1521\n",
      "1600\n",
      "1681\n",
      "1764\n",
      "1849\n",
      "1936\n",
      "2025\n",
      "2116\n",
      "2209\n",
      "2304\n",
      "2401\n",
      "2500\n",
      "2601\n",
      "2704\n",
      "2809\n",
      "2916\n",
      "3025\n",
      "3136\n",
      "3249\n",
      "3364\n",
      "3481\n",
      "3600\n",
      "3721\n",
      "3844\n",
      "3969\n",
      "4096\n",
      "4225\n",
      "4356\n",
      "4489\n",
      "4624\n",
      "4761\n",
      "4900\n",
      "5041\n",
      "5184\n",
      "5329\n",
      "5476\n",
      "5625\n",
      "5776\n",
      "5929\n",
      "6084\n",
      "6241\n",
      "6400\n",
      "6561\n",
      "6724\n",
      "6889\n",
      "7056\n",
      "7225\n",
      "7396\n",
      "7569\n",
      "7744\n",
      "7921\n",
      "8100\n",
      "8281\n",
      "8464\n",
      "8649\n",
      "8836\n",
      "9025\n",
      "9216\n",
      "9409\n",
      "9604\n",
      "9801\n"
     ]
    }
   ],
   "source": [
    "for numero in range(100):\n",
    "    print(numero*numero)"
   ]
  },
  {
   "cell_type": "markdown",
   "metadata": {},
   "source": [
    "## ¡Seguimos avanzando!\n",
    "Con esta introducción ya tienes los conocimientos necesarios para avanzar con Jupyter Notebook durante el curso."
   ]
  },
  {
   "cell_type": "code",
   "execution_count": 7,
   "metadata": {},
   "outputs": [
    {
     "data": {
      "text/plain": [
       "64"
      ]
     },
     "execution_count": 7,
     "metadata": {},
     "output_type": "execute_result"
    }
   ],
   "source": [
    "suma_y_eleva_al_cuadrado(3,5)"
   ]
  },
  {
   "cell_type": "code",
   "execution_count": 8,
   "metadata": {},
   "outputs": [
    {
     "data": {
      "text/plain": [
       "59049"
      ]
     },
     "execution_count": 8,
     "metadata": {},
     "output_type": "execute_result"
    }
   ],
   "source": [
    "suma_y_eleva_al_cuadrado(9,234)"
   ]
  },
  {
   "cell_type": "markdown",
   "metadata": {},
   "source": []
  }
 ],
 "metadata": {
  "kernelspec": {
   "display_name": "Python 3 (ipykernel)",
   "language": "python",
   "name": "python3"
  },
  "language_info": {
   "codemirror_mode": {
    "name": "ipython",
    "version": 3
   },
   "file_extension": ".py",
   "mimetype": "text/x-python",
   "name": "python",
   "nbconvert_exporter": "python",
   "pygments_lexer": "ipython3",
   "version": "3.9.7"
  }
 },
 "nbformat": 4,
 "nbformat_minor": 4
}
